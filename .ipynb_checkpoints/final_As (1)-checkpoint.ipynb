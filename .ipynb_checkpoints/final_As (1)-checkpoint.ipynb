{
 "cells": [
  {
   "cell_type": "code",
   "execution_count": 2,
   "metadata": {},
   "outputs": [
    {
     "data": {
      "text/html": [
       "<div>\n",
       "<style scoped>\n",
       "    .dataframe tbody tr th:only-of-type {\n",
       "        vertical-align: middle;\n",
       "    }\n",
       "\n",
       "    .dataframe tbody tr th {\n",
       "        vertical-align: top;\n",
       "    }\n",
       "\n",
       "    .dataframe thead th {\n",
       "        text-align: right;\n",
       "    }\n",
       "</style>\n",
       "<table border=\"1\" class=\"dataframe\">\n",
       "  <thead>\n",
       "    <tr style=\"text-align: right;\">\n",
       "      <th></th>\n",
       "      <th>Type_of_well</th>\n",
       "      <th>Well_Depth</th>\n",
       "      <th>Lattitude</th>\n",
       "      <th>Longitude</th>\n",
       "      <th>pH</th>\n",
       "      <th>Eh</th>\n",
       "      <th>Cond</th>\n",
       "      <th>Temp</th>\n",
       "      <th>DO</th>\n",
       "      <th>DOC</th>\n",
       "      <th>...</th>\n",
       "      <th>Sr</th>\n",
       "      <th>Zn</th>\n",
       "      <th>Cd</th>\n",
       "      <th>Cr</th>\n",
       "      <th>Cu</th>\n",
       "      <th>Mo</th>\n",
       "      <th>Ni</th>\n",
       "      <th>Pb</th>\n",
       "      <th>As</th>\n",
       "      <th>new_As</th>\n",
       "    </tr>\n",
       "  </thead>\n",
       "  <tbody>\n",
       "    <tr>\n",
       "      <th>0</th>\n",
       "      <td>Shallow</td>\n",
       "      <td>24.2</td>\n",
       "      <td>23.51744</td>\n",
       "      <td>90.86417</td>\n",
       "      <td>6.72</td>\n",
       "      <td>-96.0</td>\n",
       "      <td>1416</td>\n",
       "      <td>29.6</td>\n",
       "      <td>0.3</td>\n",
       "      <td>14.03</td>\n",
       "      <td>...</td>\n",
       "      <td>0.25</td>\n",
       "      <td>49.18</td>\n",
       "      <td>0.0</td>\n",
       "      <td>13.6364</td>\n",
       "      <td>3.7270</td>\n",
       "      <td>0.0</td>\n",
       "      <td>3.4724</td>\n",
       "      <td>0.0000</td>\n",
       "      <td>499.3</td>\n",
       "      <td>0</td>\n",
       "    </tr>\n",
       "    <tr>\n",
       "      <th>1</th>\n",
       "      <td>Deep</td>\n",
       "      <td>181.8</td>\n",
       "      <td>23.54386</td>\n",
       "      <td>90.83903</td>\n",
       "      <td>6.74</td>\n",
       "      <td>-33.0</td>\n",
       "      <td>465</td>\n",
       "      <td>31.4</td>\n",
       "      <td>1.2</td>\n",
       "      <td>6.51</td>\n",
       "      <td>...</td>\n",
       "      <td>0.16</td>\n",
       "      <td>79.11</td>\n",
       "      <td>0.0</td>\n",
       "      <td>0.0000</td>\n",
       "      <td>4.2555</td>\n",
       "      <td>0.0</td>\n",
       "      <td>2.7421</td>\n",
       "      <td>0.0000</td>\n",
       "      <td>8.9</td>\n",
       "      <td>1</td>\n",
       "    </tr>\n",
       "    <tr>\n",
       "      <th>2</th>\n",
       "      <td>Deep</td>\n",
       "      <td>242.4</td>\n",
       "      <td>23.52825</td>\n",
       "      <td>90.82956</td>\n",
       "      <td>6.73</td>\n",
       "      <td>-19.0</td>\n",
       "      <td>496</td>\n",
       "      <td>31.1</td>\n",
       "      <td>1.5</td>\n",
       "      <td>6.23</td>\n",
       "      <td>...</td>\n",
       "      <td>0.22</td>\n",
       "      <td>51.76</td>\n",
       "      <td>0.0</td>\n",
       "      <td>0.0000</td>\n",
       "      <td>3.3989</td>\n",
       "      <td>0.0</td>\n",
       "      <td>0.0000</td>\n",
       "      <td>0.0000</td>\n",
       "      <td>6.3</td>\n",
       "      <td>1</td>\n",
       "    </tr>\n",
       "    <tr>\n",
       "      <th>3</th>\n",
       "      <td>Deep</td>\n",
       "      <td>303.0</td>\n",
       "      <td>23.52561</td>\n",
       "      <td>90.84586</td>\n",
       "      <td>6.72</td>\n",
       "      <td>-25.0</td>\n",
       "      <td>761</td>\n",
       "      <td>32.1</td>\n",
       "      <td>5.3</td>\n",
       "      <td>5.85</td>\n",
       "      <td>...</td>\n",
       "      <td>0.38</td>\n",
       "      <td>43.75</td>\n",
       "      <td>0.0</td>\n",
       "      <td>1.2759</td>\n",
       "      <td>154.3860</td>\n",
       "      <td>0.0</td>\n",
       "      <td>0.0000</td>\n",
       "      <td>4.3982</td>\n",
       "      <td>16.1</td>\n",
       "      <td>0</td>\n",
       "    </tr>\n",
       "    <tr>\n",
       "      <th>4</th>\n",
       "      <td>Shallow</td>\n",
       "      <td>84.8</td>\n",
       "      <td>23.54328</td>\n",
       "      <td>90.78681</td>\n",
       "      <td>6.72</td>\n",
       "      <td>17.0</td>\n",
       "      <td>1261</td>\n",
       "      <td>31.0</td>\n",
       "      <td>2.4</td>\n",
       "      <td>16.93</td>\n",
       "      <td>...</td>\n",
       "      <td>0.68</td>\n",
       "      <td>69.22</td>\n",
       "      <td>0.0</td>\n",
       "      <td>1.7589</td>\n",
       "      <td>3.1335</td>\n",
       "      <td>0.0</td>\n",
       "      <td>6.0100</td>\n",
       "      <td>0.0000</td>\n",
       "      <td>5.8</td>\n",
       "      <td>1</td>\n",
       "    </tr>\n",
       "  </tbody>\n",
       "</table>\n",
       "<p>5 rows × 39 columns</p>\n",
       "</div>"
      ],
      "text/plain": [
       "  Type_of_well  Well_Depth  Lattitude  Longitude    pH    Eh  Cond  Temp   DO  \\\n",
       "0      Shallow        24.2   23.51744   90.86417  6.72 -96.0  1416  29.6  0.3   \n",
       "1         Deep       181.8   23.54386   90.83903  6.74 -33.0   465  31.4  1.2   \n",
       "2         Deep       242.4   23.52825   90.82956  6.73 -19.0   496  31.1  1.5   \n",
       "3         Deep       303.0   23.52561   90.84586  6.72 -25.0   761  32.1  5.3   \n",
       "4      Shallow        84.8   23.54328   90.78681  6.72  17.0  1261  31.0  2.4   \n",
       "\n",
       "     DOC  ...    Sr     Zn   Cd       Cr        Cu   Mo      Ni      Pb  \\\n",
       "0  14.03  ...  0.25  49.18  0.0  13.6364    3.7270  0.0  3.4724  0.0000   \n",
       "1   6.51  ...  0.16  79.11  0.0   0.0000    4.2555  0.0  2.7421  0.0000   \n",
       "2   6.23  ...  0.22  51.76  0.0   0.0000    3.3989  0.0  0.0000  0.0000   \n",
       "3   5.85  ...  0.38  43.75  0.0   1.2759  154.3860  0.0  0.0000  4.3982   \n",
       "4  16.93  ...  0.68  69.22  0.0   1.7589    3.1335  0.0  6.0100  0.0000   \n",
       "\n",
       "      As  new_As  \n",
       "0  499.3       0  \n",
       "1    8.9       1  \n",
       "2    6.3       1  \n",
       "3   16.1       0  \n",
       "4    5.8       1  \n",
       "\n",
       "[5 rows x 39 columns]"
      ]
     },
     "execution_count": 2,
     "metadata": {},
     "output_type": "execute_result"
    }
   ],
   "source": [
    "#importing library file\n",
    "import numpy as np\n",
    "import pandas as pd \n",
    "from pandas import Series,DataFrame\n",
    "import seaborn as sns \n",
    "import matplotlib.pyplot as plt\n",
    "%matplotlib inline \n",
    "from sklearn import preprocessing \n",
    "#getting the data set\n",
    "data= pd.read_csv('the.csv')\n",
    "# Showing the first five rows of train data set \n",
    "\n",
    "data.loc[data['As'] <= 10, 'new_As'] = 'Unsafe' \n",
    "data.loc[data['As'] > 10, 'new_As'] = 'Safe' \n",
    "data['new_As']=pd.get_dummies(data.new_As, drop_first=True)\n",
    "# Linear Model for the  train and test\n",
    "y = data['new_As']\n",
    "X = data.drop(['new_As', 'As','Type_of_well'], axis=1)\n",
    "data.head()"
   ]
  },
  {
   "cell_type": "code",
   "execution_count": 3,
   "metadata": {},
   "outputs": [],
   "source": [
    "from sklearn.model_selection import train_test_split\n",
    "X_train, X_test, y_train, y_test = train_test_split(\n",
    "                                    X, y, random_state=42,test_size=.23)"
   ]
  },
  {
   "cell_type": "code",
   "execution_count": 4,
   "metadata": {},
   "outputs": [
    {
     "name": "stdout",
     "output_type": "stream",
     "text": [
      "91.36\n"
     ]
    }
   ],
   "source": [
    "from sklearn.tree import DecisionTreeRegressor\n",
    "clf = DecisionTreeRegressor(max_depth=2)\n",
    "model_H=clf.fit(X_train,y_train)\n",
    "accuracy = round(model_H.score(X_test,y_test)*100,2)\n",
    "print (accuracy)"
   ]
  },
  {
   "cell_type": "code",
   "execution_count": 5,
   "metadata": {},
   "outputs": [],
   "source": [
    "from sklearn.ensemble import RandomForestClassifier\n",
    "from sklearn.feature_selection import SelectFromModel "
   ]
  },
  {
   "cell_type": "code",
   "execution_count": 6,
   "metadata": {},
   "outputs": [],
   "source": [
    "select= SelectFromModel(RandomForestClassifier(n_estimators=10,random_state=32),threshold=\"median\")"
   ]
  },
  {
   "cell_type": "code",
   "execution_count": 7,
   "metadata": {},
   "outputs": [],
   "source": [
    "select.fit(X_train,y_train)\n",
    "X_train_l1=select.transform(X_train)\n"
   ]
  },
  {
   "cell_type": "code",
   "execution_count": 8,
   "metadata": {},
   "outputs": [],
   "source": [
    "X_test_L1=select.transform(X_test)\n",
    " "
   ]
  },
  {
   "cell_type": "code",
   "execution_count": 9,
   "metadata": {},
   "outputs": [
    {
     "name": "stdout",
     "output_type": "stream",
     "text": [
      "91.36\n"
     ]
    }
   ],
   "source": [
    "klf = DecisionTreeRegressor(max_depth=2)\n",
    "model_k=klf.fit(X_train_l1,y_train)\n",
    "accuracy = round(model_k.score(X_test_L1,y_test)*100,2)\n",
    "print (accuracy)"
   ]
  },
  {
   "cell_type": "code",
   "execution_count": 10,
   "metadata": {},
   "outputs": [
    {
     "name": "stdout",
     "output_type": "stream",
     "text": [
      "94.59\n"
     ]
    },
    {
     "name": "stderr",
     "output_type": "stream",
     "text": [
      "/Users/anshumalikarna/opt/anaconda3/lib/python3.9/site-packages/sklearn/linear_model/_logistic.py:444: ConvergenceWarning: lbfgs failed to converge (status=1):\n",
      "STOP: TOTAL NO. of ITERATIONS REACHED LIMIT.\n",
      "\n",
      "Increase the number of iterations (max_iter) or scale the data as shown in:\n",
      "    https://scikit-learn.org/stable/modules/preprocessing.html\n",
      "Please also refer to the documentation for alternative solver options:\n",
      "    https://scikit-learn.org/stable/modules/linear_model.html#logistic-regression\n",
      "  n_iter_i = _check_optimize_result(\n"
     ]
    }
   ],
   "source": [
    "from sklearn.linear_model import LogisticRegression\n",
    "lr=LogisticRegression()\n",
    "lr.fit(X_train_l1,y_train)\n",
    "accuracy = round(lr.score(X_test_L1,y_test)*100,2)\n",
    "print (accuracy)\n",
    "y_pred=lr.predict(X_test_L1)"
   ]
  },
  {
   "cell_type": "code",
   "execution_count": 11,
   "metadata": {},
   "outputs": [
    {
     "data": {
      "text/plain": [
       "array([[ 5.45000000e+01,  9.09935700e+01,  7.23000000e+00,\n",
       "        -1.24000000e+02,  2.64000000e+01,  8.11000000e+00,\n",
       "         2.39800000e+01,  3.30000000e-01,  2.84000000e+02,\n",
       "         1.86280000e+02,  5.01000000e+00,  6.56000000e+00,\n",
       "         2.31256000e+03,  2.20000000e-01,  1.73300000e+01,\n",
       "         3.70800000e+01,  5.18420000e+00,  1.26222000e+01],\n",
       "       [ 2.79000000e+01,  9.09183500e+01,  7.29000000e+00,\n",
       "        -1.17000000e+02,  2.64000000e+01,  1.02100000e+01,\n",
       "         2.43200000e+01,  4.50000000e-01,  1.86800000e+03,\n",
       "         5.42900000e+02,  2.97000000e+00,  5.91000000e+00,\n",
       "         3.57844000e+03,  3.30000000e-01,  1.86800000e+01,\n",
       "         3.99600000e+01,  4.98119000e+00,  1.72152500e+01],\n",
       "       [ 8.33000000e+01,  9.11466200e+01,  6.77000000e+00,\n",
       "         2.37000000e+01,  2.58000000e+01,  8.30000000e-01,\n",
       "         0.00000000e+00,  1.00000000e-02,  0.00000000e+00,\n",
       "         1.81600000e+01,  1.27000000e+00,  1.26000000e+00,\n",
       "         1.07480000e+02,  6.00000000e-02,  2.50100000e+01,\n",
       "         5.34900000e+01,  0.00000000e+00,  0.00000000e+00],\n",
       "       [ 8.23000000e+01,  9.09222500e+01,  6.60000000e+00,\n",
       "         1.46989736e+01,  2.81000000e+01,  2.56300000e+00,\n",
       "         1.90000000e-01,  3.95000000e+00,  0.00000000e+00,\n",
       "         3.29000000e+01,  2.63000000e+00,  1.00600000e+01,\n",
       "         3.07080000e+02,  5.40000000e-01,  1.84800000e+01,\n",
       "         3.95400000e+01,  7.61100000e+00,  0.00000000e+00],\n",
       "       [ 4.39000000e+01,  9.10363400e+01,  7.54000000e+00,\n",
       "        -1.26000000e+02,  2.91000000e+01,  3.08000000e+00,\n",
       "         1.72400000e+01,  4.90000000e-01,  1.19200000e+03,\n",
       "         2.30700000e+02,  1.82000000e+00,  6.49000000e+00,\n",
       "         2.30101000e+03,  1.20000000e-01,  7.22000000e+00,\n",
       "         1.54400000e+01,  5.24939000e+00,  1.52908000e+01],\n",
       "       [ 1.82000000e+01,  9.07650300e+01,  6.24000000e+00,\n",
       "        -1.90000000e+01,  2.98000000e+01,  1.12400000e+01,\n",
       "         2.23327000e+01,  1.10000000e-01,  1.30760000e+03,\n",
       "         2.24600000e+01,  1.10000000e+00,  9.84000000e+00,\n",
       "         4.85584000e+03,  5.70000000e-01,  1.52000000e+01,\n",
       "         3.25200000e+01,  0.00000000e+00,  0.00000000e+00],\n",
       "       [ 3.48000000e+01,  9.09837600e+01,  7.30000000e+00,\n",
       "        -9.40000000e+01,  2.64000000e+01,  9.71000000e+00,\n",
       "         2.91900000e+01,  2.41000000e+00,  1.59800000e+03,\n",
       "         4.51970000e+02,  2.05000000e+00,  5.32000000e+00,\n",
       "         2.91730000e+03,  6.60000000e-01,  1.79300000e+01,\n",
       "         3.83600000e+01,  4.92101000e+00,  2.22547000e+01],\n",
       "       [ 2.13000000e+01,  9.09269000e+01,  7.20000000e+00,\n",
       "        -5.67821343e+00,  2.94000000e+01,  7.18300000e+00,\n",
       "         1.80000000e+00,  5.00000000e-01,  7.03980000e+03,\n",
       "         2.60500000e+01,  1.35600000e+00,  1.14400000e+01,\n",
       "         2.37643000e+03,  3.60000000e-01,  1.02800000e+01,\n",
       "         2.19900000e+01,  2.92540000e+00,  0.00000000e+00],\n",
       "       [ 2.12100000e+02,  9.10058500e+01,  6.33000000e+00,\n",
       "         2.10000000e+01,  2.74000000e+01,  2.73000000e+00,\n",
       "         9.10000000e-01,  2.47700000e+01,  0.00000000e+00,\n",
       "         2.38360000e+02,  7.65000000e+00,  3.83000000e+00,\n",
       "         8.42800000e+01,  9.22000000e+00,  2.87500000e+01,\n",
       "         6.15100000e+01,  3.61642000e+00,  1.50635000e+01],\n",
       "       [ 2.19700000e+02,  9.11437500e+01,  6.57000000e+00,\n",
       "         3.21000000e+01,  2.60000000e+01,  8.70000000e-01,\n",
       "         0.00000000e+00,  5.10000000e+00,  0.00000000e+00,\n",
       "         1.38200000e+01,  3.59000000e+00,  1.50000000e+00,\n",
       "         1.87250000e+02,  1.93000000e+00,  3.29700000e+01,\n",
       "         7.05300000e+01,  0.00000000e+00,  0.00000000e+00],\n",
       "       [ 2.12100000e+02,  9.07215700e+01,  6.93000000e+00,\n",
       "         2.80000000e+01,  2.96000000e+01,  5.33000000e+00,\n",
       "         3.03930000e+00,  2.00000000e-02,  0.00000000e+00,\n",
       "         2.28400000e+01,  1.34000000e+00,  6.65000000e+00,\n",
       "         1.41760000e+02,  6.70000000e-01,  2.04800000e+01,\n",
       "         4.38100000e+01,  3.51290000e+00,  0.00000000e+00],\n",
       "       [ 9.09000000e+01,  9.10386100e+01,  6.40000000e+00,\n",
       "        -1.09000000e+02,  2.95000000e+01,  4.68000000e+00,\n",
       "         2.46200000e+01,  5.00000000e-02,  1.22200000e+03,\n",
       "         1.25320000e+02,  2.74000000e+00,  8.63000000e+00,\n",
       "         2.88833000e+03,  1.50000000e-01,  1.95800000e+01,\n",
       "         4.19000000e+01,  3.95871000e+00,  7.16808000e+00],\n",
       "       [ 2.12100000e+02,  9.07924200e+01,  6.85000000e+00,\n",
       "        -1.40000000e+01,  2.96000000e+01,  6.13000000e+00,\n",
       "         4.26530000e+00,  1.50000000e-01,  0.00000000e+00,\n",
       "         2.64900000e+01,  1.43000000e+00,  4.47000000e+00,\n",
       "         2.67070000e+02,  3.90000000e-01,  2.41100000e+01,\n",
       "         5.15800000e+01,  0.00000000e+00,  0.00000000e+00],\n",
       "       [ 8.23000000e+01,  9.09829600e+01,  6.90000000e+00,\n",
       "         8.16993919e+00,  2.80000000e+01,  4.21300000e+00,\n",
       "         6.80000000e-01,  2.70000000e+00,  5.25610000e+03,\n",
       "         2.26700000e+01,  2.34600000e+00,  1.83000000e+01,\n",
       "         1.76866000e+03,  2.00000000e-01,  9.50000000e+00,\n",
       "         2.03200000e+01,  3.32780000e+00,  0.00000000e+00],\n",
       "       [ 6.06000000e+01,  9.07558300e+01,  7.65000000e+00,\n",
       "        -1.20000000e+01,  2.95000000e+01,  7.79000000e+00,\n",
       "         3.60300000e-01,  5.00000000e-02,  0.00000000e+00,\n",
       "         1.94300000e+01,  8.64000000e+00,  7.63000000e+00,\n",
       "         2.00782000e+03,  5.70000000e-01,  2.12700000e+01,\n",
       "         4.55000000e+01,  3.49590000e+00,  0.00000000e+00],\n",
       "       [ 2.73000000e+01,  9.07827200e+01,  7.04000000e+00,\n",
       "        -2.30000000e+01,  3.01000000e+01,  1.38500000e+01,\n",
       "         1.96100000e-02,  8.00000000e-02,  1.40200000e+03,\n",
       "         2.47400000e+01,  1.68000000e+00,  1.52200000e+01,\n",
       "         5.64860000e+03,  5.90000000e-01,  1.33600000e+01,\n",
       "         2.85700000e+01,  0.00000000e+00,  0.00000000e+00],\n",
       "       [ 1.81800000e+02,  9.11732900e+01,  6.29000000e+00,\n",
       "         5.86000000e+01,  2.62000000e+01,  7.80000000e-01,\n",
       "         0.00000000e+00,  8.00000000e-01,  0.00000000e+00,\n",
       "         2.23800000e+01,  5.14000000e+00,  1.46000000e+00,\n",
       "         1.13640000e+02,  3.90000000e-01,  3.43400000e+01,\n",
       "         7.34600000e+01,  0.00000000e+00,  0.00000000e+00],\n",
       "       [ 9.39000000e+01,  9.11525000e+01,  6.60000000e+00,\n",
       "         3.92000000e+01,  2.58000000e+01,  8.10000000e-01,\n",
       "         0.00000000e+00,  2.63000000e+00,  0.00000000e+00,\n",
       "         1.77000000e+01,  4.75000000e+00,  1.11000000e+00,\n",
       "         1.08380000e+02,  9.70000000e-01,  2.78400000e+01,\n",
       "         5.95700000e+01,  0.00000000e+00,  0.00000000e+00],\n",
       "       [ 3.33000000e+01,  9.10085700e+01,  7.22000000e+00,\n",
       "        -1.11000000e+02,  2.64000000e+01,  4.38000000e+00,\n",
       "         1.80200000e+01,  3.40000000e-01,  4.09000000e+02,\n",
       "         2.17980000e+02,  3.80000000e+00,  7.33000000e+00,\n",
       "         2.21197000e+03,  2.00000000e-01,  1.54100000e+01,\n",
       "         3.29800000e+01,  2.92092000e+00,  1.41609000e+01],\n",
       "       [ 6.97000000e+01,  9.07723100e+01,  6.79000000e+00,\n",
       "        -2.30000000e+01,  2.96000000e+01,  5.40000000e+00,\n",
       "         8.65060000e+00,  5.20000000e-01,  0.00000000e+00,\n",
       "         4.17500000e+01,  2.90000000e-01,  2.38000000e+00,\n",
       "         1.09240000e+02,  4.60000000e-01,  1.24500000e+01,\n",
       "         2.66400000e+01,  0.00000000e+00,  0.00000000e+00],\n",
       "       [ 2.62000000e+01,  9.08943500e+01,  7.20000000e+00,\n",
       "        -6.94557577e+01,  2.70000000e+01,  1.35060000e+01,\n",
       "         8.93000000e+00,  4.20000000e+00,  8.39580000e+03,\n",
       "         1.58500000e+01,  5.45000000e+00,  3.20200000e+01,\n",
       "         2.77996000e+03,  3.00000000e-01,  1.10700000e+01,\n",
       "         2.36700000e+01,  4.31440000e+00,  0.00000000e+00],\n",
       "       [ 2.42000000e+01,  9.07723100e+01,  6.86000000e+00,\n",
       "        -3.70000000e+01,  2.93000000e+01,  7.93000000e+00,\n",
       "         5.38900000e-01,  2.00000000e-02,  6.31900000e+02,\n",
       "         3.10000000e+01,  1.93000000e+00,  8.58000000e+00,\n",
       "         3.05540000e+03,  6.30000000e-01,  1.87700000e+01,\n",
       "         4.01600000e+01,  0.00000000e+00,  0.00000000e+00],\n",
       "       [ 2.27300000e+02,  9.08190300e+01,  6.90000000e+00,\n",
       "        -3.40000000e+01,  2.95000000e+01,  4.93000000e+00,\n",
       "         2.11270000e+00,  2.00000000e-02,  0.00000000e+00,\n",
       "         2.52900000e+01,  9.10000000e-01,  4.54000000e+00,\n",
       "         8.56400000e+01,  3.60000000e-01,  2.52000000e+01,\n",
       "         5.39200000e+01,  0.00000000e+00,  0.00000000e+00],\n",
       "       [ 3.64000000e+01,  9.08095200e+01,  6.70000000e+00,\n",
       "        -1.70000000e+01,  3.11000000e+01,  8.76000000e+00,\n",
       "         1.24828000e+01,  3.40000000e-01,  0.00000000e+00,\n",
       "         1.99700000e+01,  7.03000000e+00,  1.32200000e+01,\n",
       "         2.03286000e+03,  3.10000000e-01,  1.54100000e+01,\n",
       "         3.29600000e+01,  2.95010000e+00,  0.00000000e+00],\n",
       "       [ 8.18000000e+01,  9.07519100e+01,  6.50000000e+00,\n",
       "         1.40000000e+01,  3.02000000e+01,  3.23000000e+00,\n",
       "         3.02200000e-01,  2.70000000e-01,  0.00000000e+00,\n",
       "         1.19600000e+01,  1.07000000e+00,  2.90000000e+00,\n",
       "         2.29310000e+02,  8.70000000e-01,  1.75500000e+01,\n",
       "         3.75300000e+01,  3.45410000e+00,  0.00000000e+00],\n",
       "       [ 8.18000000e+01,  9.12483300e+01,  6.54000000e+00,\n",
       "         2.67000000e+01,  2.54000000e+01,  7.90000000e-01,\n",
       "         0.00000000e+00,  3.00000000e-01,  0.00000000e+00,\n",
       "         7.97000000e+00,  2.61000000e+00,  1.16000000e+00,\n",
       "         1.45470000e+02,  1.50000000e-01,  2.98500000e+01,\n",
       "         6.38700000e+01,  0.00000000e+00,  0.00000000e+00],\n",
       "       [ 2.73000000e+01,  9.09805000e+01,  7.25000000e+00,\n",
       "        -1.19000000e+02,  2.88000000e+01,  9.12000000e+00,\n",
       "         2.25100000e+01,  2.85000000e+00,  7.30000000e+02,\n",
       "         1.65480000e+02,  3.94000000e+00,  5.37000000e+00,\n",
       "         2.64359000e+03,  1.60000000e-01,  2.06000000e+01,\n",
       "         4.40700000e+01,  5.30503000e+00,  9.23194000e+00],\n",
       "       [ 2.74000000e+01,  9.10462300e+01,  6.90000000e+00,\n",
       "         1.55316170e+01,  2.65000000e+01,  3.22900000e+00,\n",
       "         1.20000000e-01,  1.24500000e+01,  3.80320000e+03,\n",
       "         2.31700000e+01,  4.21700000e+00,  1.18900000e+01,\n",
       "         1.26683000e+03,  7.00000000e-02,  1.28300000e+01,\n",
       "         2.74500000e+01,  7.89650000e+00,  0.00000000e+00],\n",
       "       [ 4.55000000e+01,  9.11423900e+01,  7.26000000e+00,\n",
       "         3.17000000e+01,  2.57000000e+01,  6.30000000e-01,\n",
       "         0.00000000e+00,  7.20000000e-01,  1.32300000e+03,\n",
       "         1.82500000e+01,  5.00000000e-02,  5.30000000e-01,\n",
       "         1.53879000e+03,  3.10000000e-01,  1.62400000e+01,\n",
       "         3.47500000e+01,  0.00000000e+00,  0.00000000e+00],\n",
       "       [ 2.79000000e+01,  9.09946600e+01,  7.23000000e+00,\n",
       "        -1.21000000e+02,  2.64000000e+01,  1.06900000e+01,\n",
       "         2.80200000e+01,  3.40000000e-01,  1.00900000e+03,\n",
       "         2.21770000e+02,  3.36000000e+00,  7.50000000e+00,\n",
       "         2.86375000e+03,  2.40000000e-01,  2.05600000e+01,\n",
       "         4.39900000e+01,  5.44298000e+00,  1.48782000e+01],\n",
       "       [ 4.09000000e+01,  9.11047600e+01,  6.13000000e+00,\n",
       "         6.39000000e+01,  2.62000000e+01,  7.30000000e-01,\n",
       "         0.00000000e+00,  6.60000000e-01,  0.00000000e+00,\n",
       "         1.19400000e+01,  5.70000000e-01,  1.23000000e+00,\n",
       "         8.37300000e+01,  3.00000000e-01,  2.59200000e+01,\n",
       "         5.54500000e+01,  0.00000000e+00,  0.00000000e+00],\n",
       "       [ 2.91000000e+01,  9.09073200e+01,  7.14000000e+00,\n",
       "        -1.41000000e+02,  2.99000000e+01,  1.95900000e+01,\n",
       "         4.68000000e+01,  7.80000000e-01,  1.50900000e+03,\n",
       "         2.76100000e+01,  9.50000000e-01,  1.39000000e+01,\n",
       "         1.36407000e+03,  3.20000000e-01,  1.49500000e+01,\n",
       "         3.19700000e+01,  2.61688000e+00,  3.04352000e+00],\n",
       "       [ 8.08000000e+01,  9.09561500e+01,  6.70000000e+00,\n",
       "         1.63679566e+01,  2.80000000e+01,  2.46700000e+00,\n",
       "         6.00000000e-02,  2.37000000e+01,  4.65200000e+02,\n",
       "         3.03000000e+01,  8.96000000e-01,  4.57500000e+01,\n",
       "         1.19220000e+02,  1.00800000e+01,  1.26000000e+01,\n",
       "         2.69500000e+01,  4.47560000e+00,  0.00000000e+00],\n",
       "       [ 2.27000000e+01,  9.09074200e+01,  7.13000000e+00,\n",
       "        -1.03000000e+02,  2.74000000e+01,  6.05000000e+00,\n",
       "         1.17200000e+01,  1.58000000e+00,  0.00000000e+00,\n",
       "         3.94510000e+02,  8.45000000e+00,  5.46000000e+00,\n",
       "         1.85196000e+03,  2.60000000e-01,  2.11500000e+01,\n",
       "         4.52400000e+01,  7.57484000e+00,  1.59904000e+01],\n",
       "       [ 2.42400000e+02,  9.08295600e+01,  6.73000000e+00,\n",
       "        -1.90000000e+01,  3.11000000e+01,  6.23000000e+00,\n",
       "         3.07270000e+00,  1.59000000e+00,  0.00000000e+00,\n",
       "         6.30500000e+01,  2.02000000e+00,  3.31000000e+00,\n",
       "         1.17870000e+02,  7.40000000e-01,  2.92400000e+01,\n",
       "         6.25600000e+01,  0.00000000e+00,  0.00000000e+00],\n",
       "       [ 2.91000000e+01,  9.11696100e+01,  6.30000000e+00,\n",
       "         9.47000000e+01,  2.61000000e+01,  6.20000000e-01,\n",
       "         0.00000000e+00,  9.00000000e-02,  0.00000000e+00,\n",
       "         7.25000000e+00,  2.96000000e+00,  1.09000000e+00,\n",
       "         1.72360000e+02,  1.20000000e-01,  2.55100000e+01,\n",
       "         5.45700000e+01,  0.00000000e+00,  0.00000000e+00],\n",
       "       [ 3.05000000e+01,  9.09297300e+01,  7.10000000e+00,\n",
       "        -4.97337720e+01,  2.92000000e+01,  1.51970000e+01,\n",
       "         6.20000000e+00,  6.20000000e+00,  1.25647000e+04,\n",
       "         2.06700000e+01,  1.65800000e+00,  2.74500000e+01,\n",
       "         4.17787000e+03,  3.40000000e-01,  1.43600000e+01,\n",
       "         3.07200000e+01,  5.03130000e+00,  0.00000000e+00]])"
      ]
     },
     "execution_count": 11,
     "metadata": {},
     "output_type": "execute_result"
    }
   ],
   "source": [
    "X_test_L1"
   ]
  },
  {
   "cell_type": "code",
   "execution_count": 27,
   "metadata": {},
   "outputs": [
    {
     "name": "stdout",
     "output_type": "stream",
     "text": [
      "              precision    recall  f1-score   support\n",
      "\n",
      "        safe       0.91      1.00      0.95        20\n",
      "      unsafe       1.00      0.88      0.94        17\n",
      "\n",
      "    accuracy                           0.95        37\n",
      "   macro avg       0.95      0.94      0.94        37\n",
      "weighted avg       0.95      0.95      0.95        37\n",
      "\n"
     ]
    }
   ],
   "source": [
    "from sklearn.metrics import classification_report \n",
    "print(classification_report(y_test,y_pred, target_names=[\"safe\",\"unsafe\"]))"
   ]
  },
  {
   "cell_type": "code",
   "execution_count": 11,
   "metadata": {},
   "outputs": [
    {
     "data": {
      "text/plain": [
       "Text(0, 0.5, 'Recall')"
      ]
     },
     "execution_count": 11,
     "metadata": {},
     "output_type": "execute_result"
    },
    {
     "data": {
      "image/png": "[encoded data removed]",
      "text/plain": [
       "<Figure size 432x288 with 1 Axes>"
      ]
     },
     "metadata": {
      "needs_background": "light"
     },
     "output_type": "display_data"
    }
   ],
   "source": [
    "from sklearn.metrics import precision_recall_curve\n",
    "precision, recall, thresholds= precision_recall_curve(y_test,lr.predict(X_test_L1))\n",
    "close_zero= np.argmin(np.abs(thresholds))\n",
    "plt.plot(precision[close_zero],recall[close_zero],'o',label=\"threshold zero\",fillstyle=\"none\",c='k',mew=2)\n",
    "plt.plot(precision,recall,label=\"precision recall curve\")\n",
    "plt.xlabel(\"precision\")\n",
    "plt.ylabel(\"Recall\")"
   ]
  },
  {
   "cell_type": "code",
   "execution_count": 12,
   "metadata": {},
   "outputs": [
    {
     "name": "stdout",
     "output_type": "stream",
     "text": [
      "Auc for logistic regression without preprocessing: 0.941\n"
     ]
    }
   ],
   "source": [
    "from sklearn.metrics import roc_auc_score \n",
    "lr_auc = roc_auc_score(y_test,lr.predict(X_test_L1)) \n",
    "print(\"Auc for logistic regression without preprocessing: {:.3f}\".format(lr_auc))"
   ]
  },
  {
   "cell_type": "code",
   "execution_count": 13,
   "metadata": {},
   "outputs": [
    {
     "name": "stdout",
     "output_type": "stream",
     "text": [
      "91.89\n"
     ]
    },
    {
     "name": "stderr",
     "output_type": "stream",
     "text": [
      "/Users/anshumalikarna/opt/anaconda3/lib/python3.9/site-packages/sklearn/linear_model/_logistic.py:444: ConvergenceWarning: lbfgs failed to converge (status=1):\n",
      "STOP: TOTAL NO. of ITERATIONS REACHED LIMIT.\n",
      "\n",
      "Increase the number of iterations (max_iter) or scale the data as shown in:\n",
      "    https://scikit-learn.org/stable/modules/preprocessing.html\n",
      "Please also refer to the documentation for alternative solver options:\n",
      "    https://scikit-learn.org/stable/modules/linear_model.html#logistic-regression\n",
      "  n_iter_i = _check_optimize_result(\n"
     ]
    }
   ],
   "source": [
    "lr.fit(X_train,y_train)\n",
    "accuracy = round(lr.score(X_test,y_test)*100,2)\n",
    "print (accuracy)\n",
    "pred_logreg=lr.predict(X_test)"
   ]
  },
  {
   "cell_type": "code",
   "execution_count": 14,
   "metadata": {},
   "outputs": [
    {
     "name": "stdout",
     "output_type": "stream",
     "text": [
      "              precision    recall  f1-score   support\n",
      "\n",
      "        safe       0.95      0.90      0.92        20\n",
      "      unsafe       0.89      0.94      0.91        17\n",
      "\n",
      "    accuracy                           0.92        37\n",
      "   macro avg       0.92      0.92      0.92        37\n",
      "weighted avg       0.92      0.92      0.92        37\n",
      "\n"
     ]
    }
   ],
   "source": [
    "print(classification_report(y_test,pred_logreg, target_names=[\"safe\",\"unsafe\"]))"
   ]
  },
  {
   "cell_type": "code",
   "execution_count": 15,
   "metadata": {},
   "outputs": [],
   "source": [
    "from sklearn.metrics import precision_recall_curve\n",
    "precision, recall, thresholds= precision_recall_curve(y_test,lr.predict(X_test))"
   ]
  },
  {
   "cell_type": "code",
   "execution_count": 16,
   "metadata": {},
   "outputs": [
    {
     "data": {
      "text/plain": [
       "Text(0, 0.5, 'Recall')"
      ]
     },
     "execution_count": 16,
     "metadata": {},
     "output_type": "execute_result"
    },
    {
     "data": {
      "image/png": "[encoded data removed]",
      "text/plain": [
       "<Figure size 432x288 with 1 Axes>"
      ]
     },
     "metadata": {
      "needs_background": "light"
     },
     "output_type": "display_data"
    }
   ],
   "source": [
    "close_zero= np.argmin(np.abs(thresholds))\n",
    "plt.plot(precision[close_zero],recall[close_zero],'o',label=\"threshold zero\",fillstyle=\"none\",c='k',mew=2)\n",
    "plt.plot(precision,recall,label=\"precision recall curve\")\n",
    "plt.xlabel(\"precision\")\n",
    "plt.ylabel(\"Recall\")"
   ]
  },
  {
   "cell_type": "code",
   "execution_count": 17,
   "metadata": {},
   "outputs": [
    {
     "name": "stdout",
     "output_type": "stream",
     "text": [
      "Auc for logistic regression without preprocessing: 0.921\n"
     ]
    }
   ],
   "source": [
    "from sklearn.metrics import roc_auc_score \n",
    "lr_auc = roc_auc_score(y_test,lr.predict(X_test)) \n",
    "print(\"Auc for logistic regression without preprocessing: {:.3f}\".format(lr_auc))"
   ]
  },
  {
   "cell_type": "code",
   "execution_count": null,
   "metadata": {},
   "outputs": [],
   "source": []
  }
 ],
 "metadata": {
  "kernelspec": {
   "display_name": "Python 3 (ipykernel)",
   "language": "python",
   "name": "python3"
  },
  "language_info": {
   "codemirror_mode": {
    "name": "ipython",
    "version": 3
   },
   "file_extension": ".py",
   "mimetype": "text/x-python",
   "name": "python",
   "nbconvert_exporter": "python",
   "pygments_lexer": "ipython3",
   "version": "3.9.12"
  }
 },
 "nbformat": 4,
 "nbformat_minor": 2
}
